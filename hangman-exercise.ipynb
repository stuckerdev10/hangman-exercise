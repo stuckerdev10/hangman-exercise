{
 "cells": [
  {
   "cell_type": "code",
   "execution_count": 107,
   "id": "7f07d3ab",
   "metadata": {},
   "outputs": [
    {
     "name": "stdout",
     "output_type": "stream",
     "text": [
      "['u', 'p', 'f', 'o', 'l', 'd', 's']\n"
     ]
    }
   ],
   "source": [
    "import random\n",
    "wordFile = open(\"words-list.txt\", 'r')\n",
    "wordList = wordFile.read().splitlines()\n",
    "wordFile.close()\n",
    "chosenWord = random.choice(wordList)\n",
    "guesses = 7\n",
    "chosenWordList = list(chosenWord)\n",
    "print(chosenWordList)"
   ]
  },
  {
   "cell_type": "code",
   "execution_count": 108,
   "id": "70f28162",
   "metadata": {},
   "outputs": [
    {
     "name": "stdout",
     "output_type": "stream",
     "text": [
      "['_', '_', '_', '_', '_', '_', '_']\n"
     ]
    }
   ],
   "source": [
    "SelectionArea = []\n",
    "for i in chosenWordList:\n",
    "    SelectionArea.append('_')\n",
    "print(SelectionArea)"
   ]
  },
  {
   "cell_type": "code",
   "execution_count": 109,
   "id": "e5f464ae",
   "metadata": {},
   "outputs": [
    {
     "name": "stdout",
     "output_type": "stream",
     "text": [
      "Welcome to Hangman, input a character or word to begin guessing:\n",
      "['_', '_', '_', '_', '_', '_', '_']\n",
      "u\n",
      "['u', '_', '_', '_', '_', '_', '_']\n",
      "p\n",
      "['u', 'p', '_', '_', '_', '_', '_']\n",
      "f\n",
      "['u', 'p', 'f', '_', '_', '_', '_']\n",
      "o\n",
      "['u', 'p', 'f', 'o', '_', '_', '_']\n",
      "l\n",
      "['u', 'p', 'f', 'o', 'l', '_', '_']\n",
      "d\n",
      "['u', 'p', 'f', 'o', 'l', 'd', '_']\n",
      "s\n",
      "['u', 'p', 'f', 'o', 'l', 'd', 's']\n",
      "upfolds\n",
      "Congratulations! You chose the right word!\n"
     ]
    }
   ],
   "source": [
    "gameCompleted = False\n",
    "print('Welcome to Hangman, input a character or word to begin guessing:')\n",
    "print(SelectionArea)\n",
    "while gameCompleted != True:\n",
    "    guessAttempt = input()\n",
    "    if len(guessAttempt) > 1:\n",
    "        guessWord(guessAttempt)\n",
    "    else:\n",
    "        guessCharacter(guessAttempt)\n",
    "    if guesses <= 0:\n",
    "        print(\"Out of Attempts! Correct Answer: {0}\".format(chosenWord))\n",
    "        gameCompleted = True"
   ]
  },
  {
   "cell_type": "code",
   "execution_count": 94,
   "id": "7e26c49a",
   "metadata": {},
   "outputs": [],
   "source": [
    "def guessCharacter(guesschar):\n",
    "    if guesschar not in chosenWordList:\n",
    "        print('Incorrect Selection!')\n",
    "        global guesses\n",
    "        guesses -= 1\n",
    "        print('Guesses remaining: ' + guesses)\n",
    "    else:\n",
    "        for count, letter in enumerate(chosenWordList):\n",
    "            if chosenWordList[count] == guesschar:\n",
    "                SelectionArea[count] = guesschar\n",
    "    print(SelectionArea)\n",
    "    "
   ]
  },
  {
   "cell_type": "code",
   "execution_count": 78,
   "id": "ecfc7be7",
   "metadata": {},
   "outputs": [
    {
     "name": "stdout",
     "output_type": "stream",
     "text": [
      "you are in guesschar\n",
      "Incorrect Selection!\n",
      "['_', '_', '_', '_', '_', '_', '_', '_', '_', '_']\n"
     ]
    }
   ],
   "source": [
    "guessCharacter('i')"
   ]
  },
  {
   "cell_type": "code",
   "execution_count": 93,
   "id": "34194736",
   "metadata": {},
   "outputs": [],
   "source": [
    "def guessWord(guessword):\n",
    "    guessWordList = list(guessword)\n",
    "    letterCounter = 0\n",
    "    for count, letter in enumerate(guessWordList):\n",
    "        if guessWordList[count] != chosenWordList[count]:\n",
    "            print(\"Incorrect Word\")\n",
    "            global guesses\n",
    "            guesses -= 1\n",
    "            print(\"Guesses Remaining: \" + guesses)\n",
    "            letterCounter = 0\n",
    "            break\n",
    "        else:\n",
    "            letterCounter += 1\n",
    "    if letterCounter == len(chosenWordList):\n",
    "        print(\"Congratulations! You chose the right word!\")\n",
    "        global gameCompleted\n",
    "        gameCompleted = True"
   ]
  },
  {
   "cell_type": "code",
   "execution_count": 57,
   "id": "a97f341e",
   "metadata": {},
   "outputs": [
    {
     "name": "stdout",
     "output_type": "stream",
     "text": [
      "Incorrect Word\n"
     ]
    }
   ],
   "source": []
  },
  {
   "cell_type": "code",
   "execution_count": 50,
   "id": "3ee5e1c2",
   "metadata": {},
   "outputs": [
    {
     "name": "stdout",
     "output_type": "stream",
     "text": [
      "10\n"
     ]
    }
   ],
   "source": [
    "print(len(chosenWordList))"
   ]
  },
  {
   "cell_type": "code",
   "execution_count": 73,
   "id": "00bb115c",
   "metadata": {},
   "outputs": [
    {
     "name": "stdout",
     "output_type": "stream",
     "text": [
      "6\n"
     ]
    }
   ],
   "source": [
    "print(guesses)"
   ]
  },
  {
   "cell_type": "code",
   "execution_count": 96,
   "id": "e9ecb109",
   "metadata": {},
   "outputs": [
    {
     "name": "stdout",
     "output_type": "stream",
     "text": [
      "2\n"
     ]
    }
   ],
   "source": [
    "wordFile = open(\"words-list.txt\", 'r')\n",
    "wordList = wordFile.read().splitlines()\n",
    "wordFile.close()\n"
   ]
  },
  {
   "cell_type": "code",
   "execution_count": 104,
   "id": "f0706092",
   "metadata": {},
   "outputs": [
    {
     "name": "stdout",
     "output_type": "stream",
     "text": [
      "pelites\n"
     ]
    }
   ],
   "source": [
    "import random\n",
    "print(random.choice(wordList))"
   ]
  },
  {
   "cell_type": "code",
   "execution_count": null,
   "id": "5608b33e",
   "metadata": {},
   "outputs": [],
   "source": []
  }
 ],
 "metadata": {
  "kernelspec": {
   "display_name": "Python 3",
   "language": "python",
   "name": "python3"
  },
  "language_info": {
   "codemirror_mode": {
    "name": "ipython",
    "version": 3
   },
   "file_extension": ".py",
   "mimetype": "text/x-python",
   "name": "python",
   "nbconvert_exporter": "python",
   "pygments_lexer": "ipython3",
   "version": "3.8.8"
  }
 },
 "nbformat": 4,
 "nbformat_minor": 5
}

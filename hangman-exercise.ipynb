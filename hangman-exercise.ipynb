{
 "cells": [
  {
   "cell_type": "code",
   "execution_count": 22,
   "id": "7f07d3ab",
   "metadata": {},
   "outputs": [
    {
     "name": "stdout",
     "output_type": "stream",
     "text": [
      "Welcome to Hangman, input a character or word to begin guessing:\n",
      "['_', '_', '_', '_']\n",
      "p\n",
      "Incorrect Selection!\n",
      "Guesses remaining: 6\n",
      "['_', '_', '_', '_']\n",
      "w\n",
      "Incorrect Selection!\n",
      "Guesses remaining: 5\n",
      "['_', '_', '_', '_']\n",
      "e\n",
      "Incorrect Selection!\n",
      "Guesses remaining: 4\n",
      "['_', '_', '_', '_']\n",
      "v\n",
      "Incorrect Selection!\n",
      "Guesses remaining: 3\n",
      "['_', '_', '_', '_']\n",
      "v\n",
      "Incorrect Selection!\n",
      "Guesses remaining: 2\n",
      "['_', '_', '_', '_']\n",
      "v\n",
      "Incorrect Selection!\n",
      "Guesses remaining: 1\n",
      "['_', '_', '_', '_']\n",
      "d\n",
      "Incorrect Selection!\n",
      "Guesses remaining: 0\n",
      "['_', '_', '_', '_']\n",
      "Out of Attempts! Correct Answer: B.M.\n"
     ]
    }
   ],
   "source": [
    "import random\n",
    "wordFile = open(\"words-list.txt\", 'r')\n",
    "wordList = wordFile.read().splitlines()\n",
    "wordFile.close()\n",
    "chosenWord = random.choice(wordList)\n",
    "guesses = 7\n",
    "chosenWordList = list(chosenWord)\n",
    "\n",
    "SelectionArea = []\n",
    "for i in chosenWordList:\n",
    "     SelectionArea.append('_')\n",
    "\n",
    "gameCompleted = False\n",
    "print('Welcome to Hangman, input a character or word to begin guessing:')\n",
    "print(SelectionArea)\n",
    "while gameCompleted != True:\n",
    "    guessAttempt = input()\n",
    "    if len(guessAttempt) > 1:\n",
    "        guessWord(guessAttempt)\n",
    "    else:\n",
    "        guessCharacter(guessAttempt)\n",
    "    if guesses <= 0:\n",
    "        print(\"Out of Attempts! Correct Answer: {0}\".format(chosenWord))\n",
    "        gameCompleted = True"
   ]
  },
  {
   "cell_type": "code",
   "execution_count": 20,
   "id": "7e26c49a",
   "metadata": {},
   "outputs": [],
   "source": [
    "def guessCharacter(guesschar):\n",
    "    if guesschar not in chosenWordList:\n",
    "        print('Incorrect Selection!')\n",
    "        global guesses\n",
    "        guesses -= 1\n",
    "        print('Guesses remaining: ' + str(guesses))\n",
    "    else:\n",
    "        for count, letter in enumerate(chosenWordList):\n",
    "            if chosenWordList[count] == guesschar:\n",
    "                SelectionArea[count] = guesschar\n",
    "    print(SelectionArea)\n",
    "    "
   ]
  },
  {
   "cell_type": "code",
   "execution_count": 21,
   "id": "34194736",
   "metadata": {},
   "outputs": [],
   "source": [
    "def guessWord(guessword):\n",
    "    guessWordList = list(guessword)\n",
    "    letterCounter = 0\n",
    "    for count, letter in enumerate(guessWordList):\n",
    "        if guessWordList[count] != chosenWordList[count]:\n",
    "            print(\"Incorrect Word\")\n",
    "            global guesses\n",
    "            guesses -= 1\n",
    "            print(\"Guesses Remaining: \" + guesses)\n",
    "            letterCounter = 0\n",
    "            break\n",
    "        else:\n",
    "            letterCounter += 1\n",
    "    if letterCounter == len(chosenWordList):\n",
    "        print(\"Congratulations! You chose the right word!\")\n",
    "        global gameCompleted\n",
    "        gameCompleted = True"
   ]
  },
  {
   "cell_type": "code",
   "execution_count": 12,
   "id": "1e542984",
   "metadata": {},
   "outputs": [
    {
     "name": "stdout",
     "output_type": "stream",
     "text": [
      "Welcome to Hangman, input a character or word to begin guessing:\n",
      "['_', '_', '_', '_', '_']\n",
      "u\n",
      "Incorrect Selection!\n"
     ]
    },
    {
     "ename": "NameError",
     "evalue": "name 'guesses' is not defined",
     "output_type": "error",
     "traceback": [
      "\u001b[1;31m---------------------------------------------------------------------------\u001b[0m",
      "\u001b[1;31mNameError\u001b[0m                                 Traceback (most recent call last)",
      "\u001b[1;32m<ipython-input-12-8bc9ceb72193>\u001b[0m in \u001b[0;36m<module>\u001b[1;34m\u001b[0m\n\u001b[1;32m----> 1\u001b[1;33m \u001b[0mplayGame\u001b[0m\u001b[1;33m(\u001b[0m\u001b[1;33m)\u001b[0m\u001b[1;33m\u001b[0m\u001b[1;33m\u001b[0m\u001b[0m\n\u001b[0m",
      "\u001b[1;32m<ipython-input-10-52fdd3913c87>\u001b[0m in \u001b[0;36mplayGame\u001b[1;34m()\u001b[0m\n\u001b[0;32m     20\u001b[0m             \u001b[0mguessWord\u001b[0m\u001b[1;33m(\u001b[0m\u001b[0mguessAttempt\u001b[0m\u001b[1;33m,\u001b[0m \u001b[0mchosenWordList\u001b[0m\u001b[1;33m)\u001b[0m\u001b[1;33m\u001b[0m\u001b[1;33m\u001b[0m\u001b[0m\n\u001b[0;32m     21\u001b[0m         \u001b[1;32melse\u001b[0m\u001b[1;33m:\u001b[0m\u001b[1;33m\u001b[0m\u001b[1;33m\u001b[0m\u001b[0m\n\u001b[1;32m---> 22\u001b[1;33m             \u001b[0mguessCharacter\u001b[0m\u001b[1;33m(\u001b[0m\u001b[0mguessAttempt\u001b[0m\u001b[1;33m,\u001b[0m \u001b[0mchosenWordList\u001b[0m\u001b[1;33m)\u001b[0m\u001b[1;33m\u001b[0m\u001b[1;33m\u001b[0m\u001b[0m\n\u001b[0m\u001b[0;32m     23\u001b[0m         \u001b[1;32mif\u001b[0m \u001b[0mguesses\u001b[0m \u001b[1;33m<=\u001b[0m \u001b[1;36m0\u001b[0m\u001b[1;33m:\u001b[0m\u001b[1;33m\u001b[0m\u001b[1;33m\u001b[0m\u001b[0m\n\u001b[0;32m     24\u001b[0m             \u001b[0mprint\u001b[0m\u001b[1;33m(\u001b[0m\u001b[1;34m\"Out of Attempts! Correct Answer: {0}\"\u001b[0m\u001b[1;33m.\u001b[0m\u001b[0mformat\u001b[0m\u001b[1;33m(\u001b[0m\u001b[0mchosenWord\u001b[0m\u001b[1;33m)\u001b[0m\u001b[1;33m)\u001b[0m\u001b[1;33m\u001b[0m\u001b[1;33m\u001b[0m\u001b[0m\n",
      "\u001b[1;32m<ipython-input-7-1811bbfb92dd>\u001b[0m in \u001b[0;36mguessCharacter\u001b[1;34m(guesschar, chosenWordList)\u001b[0m\n\u001b[0;32m      3\u001b[0m         \u001b[0mprint\u001b[0m\u001b[1;33m(\u001b[0m\u001b[1;34m'Incorrect Selection!'\u001b[0m\u001b[1;33m)\u001b[0m\u001b[1;33m\u001b[0m\u001b[1;33m\u001b[0m\u001b[0m\n\u001b[0;32m      4\u001b[0m         \u001b[1;32mglobal\u001b[0m \u001b[0mguesses\u001b[0m\u001b[1;33m\u001b[0m\u001b[1;33m\u001b[0m\u001b[0m\n\u001b[1;32m----> 5\u001b[1;33m         \u001b[0mguesses\u001b[0m \u001b[1;33m-=\u001b[0m \u001b[1;36m1\u001b[0m\u001b[1;33m\u001b[0m\u001b[1;33m\u001b[0m\u001b[0m\n\u001b[0m\u001b[0;32m      6\u001b[0m         \u001b[0mprint\u001b[0m\u001b[1;33m(\u001b[0m\u001b[1;34m'Guesses remaining: '\u001b[0m \u001b[1;33m+\u001b[0m \u001b[0mguesses\u001b[0m\u001b[1;33m)\u001b[0m\u001b[1;33m\u001b[0m\u001b[1;33m\u001b[0m\u001b[0m\n\u001b[0;32m      7\u001b[0m     \u001b[1;32melse\u001b[0m\u001b[1;33m:\u001b[0m\u001b[1;33m\u001b[0m\u001b[1;33m\u001b[0m\u001b[0m\n",
      "\u001b[1;31mNameError\u001b[0m: name 'guesses' is not defined"
     ]
    }
   ],
   "source": [
    "playGame()"
   ]
  },
  {
   "cell_type": "code",
   "execution_count": null,
   "id": "8abca5dc",
   "metadata": {},
   "outputs": [],
   "source": [
    "stopPlaying = False\n",
    "while stopPlaying != True:\n",
    "    playGame()\n",
    "    print(\"Do you want to play again? type Y for yes and N for no.\")\n",
    "    playerChoice = input()\n",
    "    if playerChoice == 'N':\n",
    "        break\n",
    "    else:\n",
    "        stopPlaying = True"
   ]
  }
 ],
 "metadata": {
  "kernelspec": {
   "display_name": "Python 3",
   "language": "python",
   "name": "python3"
  },
  "language_info": {
   "codemirror_mode": {
    "name": "ipython",
    "version": 3
   },
   "file_extension": ".py",
   "mimetype": "text/x-python",
   "name": "python",
   "nbconvert_exporter": "python",
   "pygments_lexer": "ipython3",
   "version": "3.8.8"
  }
 },
 "nbformat": 4,
 "nbformat_minor": 5
}
